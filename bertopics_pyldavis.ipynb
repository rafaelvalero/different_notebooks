{
 "cells": [
  {
   "cell_type": "code",
   "execution_count": 64,
   "id": "25e14e62-841a-477f-ab3a-7e0351f43489",
   "metadata": {},
   "outputs": [
    {
     "data": {
      "text/plain": [
       "'\\nThis is just to enjoy/play this interesting library (BERTopics) and their grapsh\\n'"
      ]
     },
     "execution_count": 64,
     "metadata": {},
     "output_type": "execute_result"
    }
   ],
   "source": [
    "\"\"\"\n",
    "This is just to enjoy/play this interesting library (BERTopics) and their grapsh\n",
    "Trying to use PyLDAvis visualization for topics modeling.\n",
    "\n",
    "\"\"\""
   ]
  },
  {
   "cell_type": "code",
   "execution_count": 65,
   "id": "457fe331-47c9-48e5-93ee-a498e911b09e",
   "metadata": {},
   "outputs": [],
   "source": [
    "name_notebook = 'bertopics_pyldavis'"
   ]
  },
  {
   "cell_type": "code",
   "execution_count": 66,
   "id": "d937546b-7d10-442b-9693-673830d09426",
   "metadata": {},
   "outputs": [],
   "source": [
    "#from ipywidgets import  IProgress"
   ]
  },
  {
   "cell_type": "code",
   "execution_count": 67,
   "id": "906756b7-fe4b-4083-b950-36a4b7a98346",
   "metadata": {},
   "outputs": [
    {
     "name": "stdout",
     "output_type": "stream",
     "text": [
      "The autoreload extension is already loaded. To reload it, use:\n",
      "  %reload_ext autoreload\n"
     ]
    }
   ],
   "source": [
    "%load_ext autoreload\n",
    "%autoreload 2\n",
    "from bertopic import BERTopic\n",
    "from sklearn.datasets import fetch_20newsgroups\n",
    "import os\n",
    "import pyLDAvis"
   ]
  },
  {
   "cell_type": "code",
   "execution_count": 68,
   "id": "e8ba44bc-0f36-4663-8fb7-b2ab1d2a82b4",
   "metadata": {},
   "outputs": [],
   "source": [
    "# For a sorter and faster version\n",
    "sort_version = True"
   ]
  },
  {
   "cell_type": "code",
   "execution_count": null,
   "id": "721702ff-b5e7-4553-a105-984243e1e6a2",
   "metadata": {},
   "outputs": [],
   "source": []
  },
  {
   "cell_type": "code",
   "execution_count": 69,
   "id": "06feb40c-cbbd-46e8-b51e-2bb85a4c484d",
   "metadata": {},
   "outputs": [],
   "source": [
    "data_original = fetch_20newsgroups(subset='all',  remove=('headers', 'footers', 'quotes'))\n"
   ]
  },
  {
   "cell_type": "code",
   "execution_count": 70,
   "id": "ab5c219a-6d38-427e-8a18-10d9f75ee6a0",
   "metadata": {},
   "outputs": [
    {
     "name": "stdout",
     "output_type": "stream",
     "text": [
      "data\n",
      "filenames\n",
      "target_names\n",
      "target\n",
      "DESCR\n"
     ]
    }
   ],
   "source": [
    "\n",
    "if sort_version:\n",
    "    nr_topics = 20\n",
    "    data = {}\n",
    "    number_to_select = 5000\n",
    "    for key in data_original.keys():\n",
    "        print(key)\n",
    "        data[key] = data_original[key][:number_to_select]\n",
    "else:\n",
    "    nr_topics = 'auto'\n",
    "    data = data_original.copy()\n",
    "docs = data['data'] "
   ]
  },
  {
   "cell_type": "code",
   "execution_count": null,
   "id": "ec698de0-a2b5-4157-bfd5-4a6feff79818",
   "metadata": {},
   "outputs": [
    {
     "data": {
      "application/vnd.jupyter.widget-view+json": {
       "model_id": "855d64ca2d1047029d90e8c3a256ff76",
       "version_major": 2,
       "version_minor": 0
      },
      "text/plain": [
       "Batches:   0%|          | 0/157 [00:00<?, ?it/s]"
      ]
     },
     "metadata": {},
     "output_type": "display_data"
    },
    {
     "name": "stderr",
     "output_type": "stream",
     "text": [
      "2022-01-01 15:00:54,694 - BERTopic - Transformed documents to Embeddings\n"
     ]
    }
   ],
   "source": [
    "%%time\n",
    "topic_model = BERTopic(nr_topics = nr_topics, \n",
    "                       calculate_probabilities=True, \n",
    "                       verbose = True)\n",
    "topics, probs = topic_model.fit_transform(docs)"
   ]
  },
  {
   "cell_type": "markdown",
   "id": "d9b72ef4-35b7-4612-9e62-518c022dcbaa",
   "metadata": {},
   "source": [
    "# Create function to use visualization as in PyLDAVis\n",
    "From https://github.com/MaartenGr/BERTopic/issues/196"
   ]
  },
  {
   "cell_type": "code",
   "execution_count": null,
   "id": "7b2bf921-f4cb-43df-a147-33497e7ca89a",
   "metadata": {},
   "outputs": [],
   "source": [
    "# Prepare data for PyLDAVis\n",
    "top_n = 5\n",
    "R = 10\n",
    "\n",
    "topic_term_dists = topic_model.c_tf_idf.toarray()[:top_n+1, ]\n",
    "new_probs = probs[:, :top_n]\n",
    "outlier = np.array(1 - new_probs.sum(axis=1)).reshape(-1, 1)\n",
    "doc_topic_dists = np.hstack((new_probs, outlier))\n",
    "doc_lengths = [len(doc) for doc in docs]\n",
    "vocab = [word for word in topic_model.vectorizer_model.vocabulary_.keys()]\n",
    "term_frequency = [topic_model.vectorizer_model.vocabulary_[word] for word in vocab]\n",
    "\n",
    "data = {'topic_term_dists': topic_term_dists,\n",
    "        'doc_topic_dists': doc_topic_dists,\n",
    "        'doc_lengths': doc_lengths,\n",
    "        'vocab': vocab,\n",
    "        'term_frequency': term_frequency}\n",
    "\n",
    "# Visualize using pyLDAvis\n",
    "vis_data= pyLDAvis.prepare(**data,R=R, n_jobs = 1, mds='mmds')\n",
    "pyLDAvis.display(vis_data)"
   ]
  },
  {
   "cell_type": "code",
   "execution_count": null,
   "id": "a214625c-9fac-4e31-b214-1a6e7c00cd03",
   "metadata": {},
   "outputs": [],
   "source": [
    "pyLDAvis.save_html(vis_data,\"pyldavis.html\")"
   ]
  },
  {
   "cell_type": "code",
   "execution_count": null,
   "id": "2cd7f6e2-8649-42a8-bff8-c92eb6e1f536",
   "metadata": {},
   "outputs": [],
   "source": []
  },
  {
   "cell_type": "code",
   "execution_count": null,
   "id": "5d90eaff-a852-49c9-9e95-01f3bad1bd2b",
   "metadata": {},
   "outputs": [],
   "source": [
    "# to save\n",
    "os.system(\"jupytext --output {}.py {}.ipynb\".format(name_notebook,name_notebook))"
   ]
  },
  {
   "cell_type": "code",
   "execution_count": null,
   "id": "07e31814-2a61-4e5c-ad89-c55045a8a27a",
   "metadata": {},
   "outputs": [],
   "source": []
  }
 ],
 "metadata": {
  "kernelspec": {
   "display_name": "text39",
   "language": "python",
   "name": "text39"
  },
  "language_info": {
   "codemirror_mode": {
    "name": "ipython",
    "version": 3
   },
   "file_extension": ".py",
   "mimetype": "text/x-python",
   "name": "python",
   "nbconvert_exporter": "python",
   "pygments_lexer": "ipython3",
   "version": "3.9.7"
  }
 },
 "nbformat": 4,
 "nbformat_minor": 5
}

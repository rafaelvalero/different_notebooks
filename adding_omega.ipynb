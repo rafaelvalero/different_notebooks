{
 "cells": [
  {
   "cell_type": "code",
   "execution_count": null,
   "id": "6dc87980-55d4-444f-9193-b55f8d5ed778",
   "metadata": {},
   "outputs": [],
   "source": [
    "\"\"\"\n",
    "I try to reproduce this https://www.youtube.com/watch?v=pWrmlaXKnB8\n",
    "\n",
    "https://www.datacamp.com/community/tutorials/introduction-factor-analysis\n",
    "Omega calculations: https://files.eric.ed.gov/fulltext/ED575032.pdf\n",
    "\"\"\""
   ]
  },
  {
   "cell_type": "code",
   "execution_count": 12,
   "id": "a30bdc3b-721b-4b2d-9c87-376d498f5a98",
   "metadata": {},
   "outputs": [],
   "source": [
    "name_notebook = 'adding_omega'"
   ]
  },
  {
   "cell_type": "code",
   "execution_count": 6,
   "id": "59275bdf-5560-4d69-9b93-ed3f3e5e0cd7",
   "metadata": {},
   "outputs": [],
   "source": [
    "import os\n",
    "import pandas as pd\n",
    "import numpy as np\n",
    "\"\"\"conda install -c desilinguist factor_analyzer\"\"\"\n",
    "from factor_analyzer import FactorAnalyzer"
   ]
  },
  {
   "cell_type": "code",
   "execution_count": 8,
   "id": "e195e7bd-dd60-46ab-9c2d-854096f0d37a",
   "metadata": {},
   "outputs": [
    {
     "data": {
      "text/html": [
       "<div>\n",
       "<style scoped>\n",
       "    .dataframe tbody tr th:only-of-type {\n",
       "        vertical-align: middle;\n",
       "    }\n",
       "\n",
       "    .dataframe tbody tr th {\n",
       "        vertical-align: top;\n",
       "    }\n",
       "\n",
       "    .dataframe thead th {\n",
       "        text-align: right;\n",
       "    }\n",
       "</style>\n",
       "<table border=\"1\" class=\"dataframe\">\n",
       "  <thead>\n",
       "    <tr style=\"text-align: right;\">\n",
       "      <th></th>\n",
       "      <th>0</th>\n",
       "      <th>1</th>\n",
       "      <th>2</th>\n",
       "      <th>3</th>\n",
       "      <th>4</th>\n",
       "      <th>5</th>\n",
       "      <th>6</th>\n",
       "      <th>7</th>\n",
       "    </tr>\n",
       "  </thead>\n",
       "  <tbody>\n",
       "    <tr>\n",
       "      <th>0</th>\n",
       "      <td>4</td>\n",
       "      <td>2</td>\n",
       "      <td>4</td>\n",
       "      <td>4</td>\n",
       "      <td>4</td>\n",
       "      <td>4</td>\n",
       "      <td>4</td>\n",
       "      <td>4</td>\n",
       "    </tr>\n",
       "    <tr>\n",
       "      <th>1</th>\n",
       "      <td>4</td>\n",
       "      <td>4</td>\n",
       "      <td>3</td>\n",
       "      <td>3</td>\n",
       "      <td>3</td>\n",
       "      <td>2</td>\n",
       "      <td>2</td>\n",
       "      <td>2</td>\n",
       "    </tr>\n",
       "    <tr>\n",
       "      <th>2</th>\n",
       "      <td>3</td>\n",
       "      <td>4</td>\n",
       "      <td>3</td>\n",
       "      <td>3</td>\n",
       "      <td>2</td>\n",
       "      <td>3</td>\n",
       "      <td>4</td>\n",
       "      <td>2</td>\n",
       "    </tr>\n",
       "    <tr>\n",
       "      <th>3</th>\n",
       "      <td>4</td>\n",
       "      <td>3</td>\n",
       "      <td>2</td>\n",
       "      <td>2</td>\n",
       "      <td>2</td>\n",
       "      <td>4</td>\n",
       "      <td>4</td>\n",
       "      <td>4</td>\n",
       "    </tr>\n",
       "    <tr>\n",
       "      <th>4</th>\n",
       "      <td>4</td>\n",
       "      <td>2</td>\n",
       "      <td>4</td>\n",
       "      <td>5</td>\n",
       "      <td>2</td>\n",
       "      <td>5</td>\n",
       "      <td>2</td>\n",
       "      <td>4</td>\n",
       "    </tr>\n",
       "  </tbody>\n",
       "</table>\n",
       "</div>"
      ],
      "text/plain": [
       "   0  1  2  3  4  5  6  7\n",
       "0  4  2  4  4  4  4  4  4\n",
       "1  4  4  3  3  3  2  2  2\n",
       "2  3  4  3  3  2  3  4  2\n",
       "3  4  3  2  2  2  4  4  4\n",
       "4  4  2  4  5  2  5  2  4"
      ]
     },
     "execution_count": 8,
     "metadata": {},
     "output_type": "execute_result"
    }
   ],
   "source": [
    "\n",
    "\"\"\"data from\n",
    "http://afhayes.com/spss-sas-and-r-macros-and-code.html \n",
    "In Section OMEGA\n",
    "\"\"\"\n",
    "data = pd.read_csv(\"blirt8.csv\",header = None)\n",
    "data.head()"
   ]
  },
  {
   "cell_type": "code",
   "execution_count": null,
   "id": "65b5433c-1032-4777-a3a2-d574b05c963a",
   "metadata": {},
   "outputs": [],
   "source": []
  },
  {
   "cell_type": "code",
   "execution_count": 11,
   "id": "84406a4b-968f-455d-ab36-38cd1df49795",
   "metadata": {},
   "outputs": [
    {
     "name": "stdout",
     "output_type": "stream",
     "text": [
      "[[-0.65569689]\n",
      " [-0.61897365]\n",
      " [-0.61536659]\n",
      " [-0.71007356]\n",
      " [-0.51299203]\n",
      " [-0.65530926]\n",
      " [-0.32978307]\n",
      " [-0.39705326]]\n",
      "[0.42993842 0.38312837 0.37867604 0.50420446 0.26316082 0.42943023\n",
      " 0.10875688 0.15765129]\n",
      "Omega estimation: [0.79081917]\n"
     ]
    },
    {
     "name": "stderr",
     "output_type": "stream",
     "text": [
      "/Users/rafaelvalerofernandez/opt/anaconda3/envs/text39/lib/python3.9/site-packages/factor_analyzer/factor_analyzer.py:656: UserWarning: No rotation will be performed when the number of factors equals 1.\n",
      "  warnings.warn('No rotation will be performed when '\n"
     ]
    }
   ],
   "source": [
    "fa = FactorAnalyzer(n_factors=1,rotation='oblimin',method='ml')\n",
    "fa.fit(data)\n",
    "\"\"\"Get loading\n",
    "https://factor-analyzer.readthedocs.io/en/latest/factor_analyzer.html#module-factor_analyzer.factor_analyzer\"\"\"\n",
    "print(fa.loadings_)\n",
    "print(fa.get_communalities())\n",
    "\n",
    "sum_loadings_square = sum(fa.loadings_)**2\n",
    "omega = sum_loadings_square / (sum_loadings_square + (1-fa.get_communalities()).sum())\n",
    "print('Omega estimation:', omega)\n",
    "\n"
   ]
  },
  {
   "cell_type": "code",
   "execution_count": 18,
   "id": "b1ceb451-3001-4bef-8b8b-6631b9663218",
   "metadata": {},
   "outputs": [],
   "source": [
    "\"\"\"Wrapping omega in a function\"\"\"\n",
    "def omega_mcdonalds_estimation(data, n_factors =1, \n",
    "                     rotation ='oblimin', \n",
    "                     method ='ml'):\n",
    "    \"\"\"\n",
    "    This function estimate Omega MacDonals, as https://personality-project.org/r/psych/HowTo/omega.tutorial/omega.html\n",
    "    :param data: pandas data frame.\n",
    "    :param n_factors: Number of factors to used.\n",
    "    :param rotation:\n",
    "    :param method:\n",
    "    :return: omega. float. \n",
    "    \"\"\"\n",
    "    fa = FactorAnalyzer(n_factors=n_factors,\n",
    "                        rotation=rotation,\n",
    "                        method=method)\n",
    "    fa.fit(data)\n",
    "    # https://en.wikipedia.org/wiki/Factor_analysis#Definition\n",
    "    sum_loadings_square = sum(fa.loadings_) ** 2\n",
    "    # https://personality-project.org/r/psych/HowTo/omega.tutorial/omega.html\n",
    "    omega = sum_loadings_square / (sum_loadings_square + (1 - fa.get_communalities()).sum())\n",
    "    return omega[0]\n"
   ]
  },
  {
   "cell_type": "code",
   "execution_count": 19,
   "id": "6dbcc276-2bc7-4385-8d1f-263c41bc6902",
   "metadata": {},
   "outputs": [
    {
     "name": "stderr",
     "output_type": "stream",
     "text": [
      "/Users/rafaelvalerofernandez/opt/anaconda3/envs/text39/lib/python3.9/site-packages/factor_analyzer/factor_analyzer.py:656: UserWarning: No rotation will be performed when the number of factors equals 1.\n",
      "  warnings.warn('No rotation will be performed when '\n"
     ]
    },
    {
     "data": {
      "text/plain": [
       "0.7908191749185399"
      ]
     },
     "execution_count": 19,
     "metadata": {},
     "output_type": "execute_result"
    }
   ],
   "source": [
    "omega_mcdonalds_estimation(data)"
   ]
  },
  {
   "cell_type": "code",
   "execution_count": 14,
   "id": "74139e36-0cea-40a7-88a9-fa6861a0bff1",
   "metadata": {},
   "outputs": [
    {
     "name": "stdout",
     "output_type": "stream",
     "text": [
      "[jupytext] Reading adding_omega.ipynb in format ipynb\n",
      "[jupytext] Updating the timestamp of adding_omega.py\n"
     ]
    },
    {
     "data": {
      "text/plain": [
       "0"
      ]
     },
     "execution_count": 14,
     "metadata": {},
     "output_type": "execute_result"
    }
   ],
   "source": [
    "# to save\n",
    "os.system(\"jupytext --output {}.py {}.ipynb\".format(name_notebook,name_notebook))"
   ]
  },
  {
   "cell_type": "code",
   "execution_count": null,
   "id": "2e5af181-42a2-4539-a582-97580132a6fb",
   "metadata": {},
   "outputs": [],
   "source": []
  }
 ],
 "metadata": {
  "kernelspec": {
   "display_name": "text39",
   "language": "python",
   "name": "text39"
  },
  "language_info": {
   "codemirror_mode": {
    "name": "ipython",
    "version": 3
   },
   "file_extension": ".py",
   "mimetype": "text/x-python",
   "name": "python",
   "nbconvert_exporter": "python",
   "pygments_lexer": "ipython3",
   "version": "3.9.7"
  }
 },
 "nbformat": 4,
 "nbformat_minor": 5
}
